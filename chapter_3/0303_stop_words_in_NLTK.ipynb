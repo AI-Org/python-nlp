{
 "cells": [
  {
   "cell_type": "code",
   "execution_count": 1,
   "metadata": {},
   "outputs": [
    {
     "name": "stdout",
     "output_type": "stream",
     "text": [
      "{'should', 'me', 'while', 'hasn', 'has', 'themselves', 'this', 'now', 'himself', 'out', 'be', 'him', 's', 'herself', 'from', 'these', 'than', 'about', 'haven', 'once', 'other', 'hadn', 'doing', 'all', 'yourselves', 'no', 'into', 'is', 'll', 'for', 'was', 'can', 'ma', 'how', 'your', 'myself', 'hers', 'own', 'nor', 'couldn', 'weren', 'too', 'over', 'her', 'an', 'their', 'during', 'then', 'shan', 'were', 'off', 'at', 'and', 'needn', 'shouldn', 'most', 'ours', 'again', 'yourself', 'that', 're', 'both', 'y', 'up', 'why', 'don', 'my', 'not', 'more', 'because', 'itself', 've', 'through', 'what', 'ourselves', 'you', 'few', 'where', 'it', 'very', 'to', 'or', 't', 'below', 'they', 'aren', 'doesn', 'only', 'didn', 'any', 'he', 'have', 'against', 'as', 'above', 'before', 'in', 'some', 'until', 'which', 'wasn', 'o', 'between', 'when', 'its', 'if', 'so', 'wouldn', 'whom', 'a', 'will', 'mustn', 'down', 'does', 'of', 'yours', 'd', 'here', 'those', 'under', 'such', 'after', 'mightn', 'on', 'but', 'our', 'are', 'further', 'we', 'same', 'theirs', 'had', 'm', 'having', 'ain', 'who', 'just', 'do', 'been', 'his', 'am', 'there', 'won', 'by', 'being', 'i', 'she', 'did', 'with', 'each', 'the', 'isn', 'them'}\n"
     ]
    }
   ],
   "source": [
    "import nltk\n",
    "english_stopwords = set(nltk.corpus.stopwords.words('english'))\n",
    "print(english_stopwords)\n",
    "# \"set\" is used because they are fast for checking membership"
   ]
  },
  {
   "cell_type": "code",
   "execution_count": 2,
   "metadata": {},
   "outputs": [
    {
     "name": "stdout",
     "output_type": "stream",
     "text": [
      "{'me', 'algo', 'habido', 'serás', 'siente', 'tengáis', 'tuvieran', 'habremos', 'hubieron', 'sentida', 'lo', 'hubo', 'eran', 'tendríais', 'has', 'tenías', 'otra', 'antes', 'habidas', 'esto', 'habíamos', 'sea', 'estados', 'estarás', 'tú', 'fuimos', 'hubiésemos', 'eres', 'como', 'tiene', 'estuvieras', 'al', 'sí', 'otros', 'tuyas', 'hubierais', 'estuviesen', 'mío', 'fui', 'tuvierais', 'su', 'esos', 'estabais', 'suyos', 'otras', 'el', 'cual', 'habidos', 'algunas', 'estuvisteis', 'tenían', 'habíais', 'donde', 'mía', 'ha', 'tuvieron', 'tuviese', 'no', 'muchos', 'suyo', 'vosostras', 'haya', 'habida', 'había', 'estaré', 'tuvimos', 'tendrán', 'fuese', 'estaríamos', 'serán', 'fuiste', 'tenía', 'sean', 'tenga', 'por', 'quienes', 'nuestros', 'habías', 'estuvo', 'tenemos', 'tienes', 'estemos', 'estaremos', 'teníamos', 'quien', 'ya', 'míos', 'erais', 'hasta', 'ti', 'estabas', 'somos', 'tendría', 'fuisteis', 'estarán', 'vuestras', 'qué', 'era', 'le', 'sus', 'ellos', 'tendríamos', 'hubiéramos', 'habríamos', 'teniendo', 'del', 'cuando', 'esa', 'estuve', 'tuyos', 'estuvieseis', 'muy', 'sintiendo', 'sentido', 'nuestra', 'habéis', 'y', 'hemos', 'esas', 'hayan', 'les', 'estuvieses', 'estuviese', 'éramos', 'hayas', 'estáis', 'estamos', 'los', 'estés', 'sobre', 'hubiese', 'seríais', 'hayamos', 'sin', 'sois', 'estas', 'hubimos', 'fueseis', 'fueses', 'habrá', 'pero', 'que', 'e', 'contra', 'habrías', 'otro', 'ella', 'nos', 'hay', 'tendrá', 'suyas', 'ante', 'las', 'fuéramos', 'sentidos', 'estado', 'hayáis', 'vuestra', 'suya', 'estuvierais', 'habían', 'teníais', 'tuvieseis', 'estéis', 'habréis', 'os', 'hubieran', 'son', 'seamos', 'tengamos', 'tuviésemos', 'tenéis', 'seáis', 'tengas', 'fuesen', 'tuviste', 'un', 'hubieras', 'sentid', 'tienen', 'estada', 'tuviéramos', 'ellas', 'estábamos', 'eso', 'estarían', 'estoy', 'estadas', 'serías', 'fuera', 'mi', 'para', 'he', 'hubiera', 'habiendo', 'serían', 'fuésemos', 'porque', 'tened', 'yo', 'poco', 'sentidas', 'esté', 'tendrás', 'nuestro', 'o', 'habrás', 'estaríais', 'tuviesen', 'seréis', 'será', 'tendré', 'tus', 'él', 'estará', 'te', 'tendréis', 'una', 'tuvo', 'tendrían', 'a', 'estar', 'más', 'tuya', 'algunos', 'estaréis', 'habría', 'nosotros', 'hubieseis', 'hubiesen', 'mis', 'vosostros', 'soy', 'es', 'tendrías', 'vuestro', 'estuvieron', 'fuerais', 'en', 'tengan', 'tenido', 'tuve', 'mías', 'tenidos', 'está', 'estuvieran', 'sería', 'estaba', 'estuviéramos', 'han', 'habrían', 'estando', 'seríamos', 'vuestros', 'nuestras', 'tuvieras', 'fueras', 'todos', 'uno', 'tuyo', 'unos', 'eras', 'fueran', 'estos', 'estás', 'tu', 'estén', 'estaría', 'seré', 'fue', 'estaban', 'estuvimos', 'también', 'hube', 'fueron', 'tengo', 'se', 'esta', 'entre', 'hubieses', 'tenidas', 'hubisteis', 'seas', 'estuviera', 'de', 'mí', 'nosotras', 'habrán', 'seremos', 'hubiste', 'tenida', 'ni', 'este', 'habríais', 'todo', 'tuvisteis', 'estarías', 'estad', 'con', 'la', 'nada', 'tendremos', 'tuvieses', 'desde', 'habré', 'estuviste', 'están', 'ese', 'tuviera', 'durante', 'estuviésemos', 'mucho', 'tanto'}\n"
     ]
    }
   ],
   "source": [
    "spanish_stopwords = set(nltk.corpus.stopwords.words('spanish'))\n",
    "print(spanish_stopwords)"
   ]
  },
  {
   "cell_type": "code",
   "execution_count": 3,
   "metadata": {},
   "outputs": [
    {
     "name": "stdout",
     "output_type": "stream",
     "text": [
      "['chicken', 'went', 'house', 'humiliate', 'man', '.']\n"
     ]
    }
   ],
   "source": [
    "# Here we remove stop words to get the gist of a sentence\n",
    "from nltk.tokenize import word_tokenize\n",
    "text = \"The chicken went to the house to humiliate the man.\"\n",
    "tokens = word_tokenize(text)\n",
    "content_tokens = [token for token in tokens if token.lower() not in english_stopwords]\n",
    "print(content_tokens)"
   ]
  },
  {
   "cell_type": "code",
   "execution_count": null,
   "metadata": {
    "collapsed": true
   },
   "outputs": [],
   "source": []
  }
 ],
 "metadata": {
  "kernelspec": {
   "display_name": "Python 3",
   "language": "python",
   "name": "python3"
  },
  "language_info": {
   "codemirror_mode": {
    "name": "ipython",
    "version": 3
   },
   "file_extension": ".py",
   "mimetype": "text/x-python",
   "name": "python",
   "nbconvert_exporter": "python",
   "pygments_lexer": "ipython3",
   "version": "3.5.2"
  }
 },
 "nbformat": 4,
 "nbformat_minor": 2
}
