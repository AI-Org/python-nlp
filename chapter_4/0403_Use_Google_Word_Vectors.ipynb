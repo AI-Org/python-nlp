{
 "cells": [
  {
   "cell_type": "markdown",
   "metadata": {},
   "source": [
    "## GoogleNews Word Vectors"
   ]
  },
  {
   "cell_type": "code",
   "execution_count": 1,
   "metadata": {
    "collapsed": true
   },
   "outputs": [],
   "source": [
    "from gensim.models import KeyedVectors\n",
    "google_vec_file = '~/Documents/nlp-python/word_vectors/GoogleNews-vectors-negative300.bin'\n",
    "model = KeyedVectors.load_word2vec_format(google_vec_file, binary=True)"
   ]
  },
  {
   "cell_type": "code",
   "execution_count": 2,
   "metadata": {},
   "outputs": [
    {
     "data": {
      "text/plain": [
       "gensim.models.keyedvectors.KeyedVectors"
      ]
     },
     "execution_count": 2,
     "metadata": {},
     "output_type": "execute_result"
    }
   ],
   "source": [
    "type(model)"
   ]
  },
  {
   "cell_type": "code",
   "execution_count": 3,
   "metadata": {},
   "outputs": [
    {
     "data": {
      "text/plain": [
       "['Michele_Verroken',\n",
       " 'dimensional_tolerances',\n",
       " 'turboprop_plane',\n",
       " 'Ortizes',\n",
       " 'hereupon',\n",
       " 'Sprunk',\n",
       " 'PEGGY_HEINKEL_WOLFE',\n",
       " 'Nicole_Pratt',\n",
       " 'Pele_Beckenbauer',\n",
       " 'quarterback_Don_Majkowski']"
      ]
     },
     "execution_count": 3,
     "metadata": {},
     "output_type": "execute_result"
    }
   ],
   "source": [
    "list(model.vocab.keys())[:10]"
   ]
  },
  {
   "cell_type": "code",
   "execution_count": 4,
   "metadata": {},
   "outputs": [
    {
     "data": {
      "text/plain": [
       "array([  2.40234375e-01,   2.51770020e-03,  -1.01074219e-01,\n",
       "         1.31835938e-01,  -3.44238281e-02,   6.83593750e-02,\n",
       "        -7.51953125e-02,  -1.28906250e-01,   1.46484375e-01,\n",
       "         1.03027344e-01,  -3.04687500e-01,  -2.32421875e-01,\n",
       "         1.66015625e-01,  -1.60156250e-01,  -1.14746094e-01,\n",
       "        -5.51757812e-02,   3.46679688e-02,   2.26562500e-01,\n",
       "        -7.91015625e-02,  -2.33398438e-01,   1.70898438e-01,\n",
       "        -9.61914062e-02,  -9.37500000e-02,   1.78710938e-01,\n",
       "        -1.83593750e-01,   1.25976562e-01,   1.20849609e-02,\n",
       "         1.42578125e-01,   1.72851562e-01,  -1.56250000e-02,\n",
       "         7.12890625e-02,  -1.21093750e-01,  -4.22363281e-02,\n",
       "         2.55859375e-01,  -1.52343750e-01,  -1.70898438e-02,\n",
       "        -6.83593750e-02,   3.28125000e-01,   2.02148438e-01,\n",
       "         4.24804688e-02,  -6.34765625e-02,  -1.14746094e-02,\n",
       "        -3.85742188e-02,   7.81250000e-02,   1.75781250e-01,\n",
       "        -8.30078125e-02,   8.83789062e-02,   1.29882812e-01,\n",
       "         7.37304688e-02,  -7.22656250e-02,  -3.90625000e-01,\n",
       "        -4.49218750e-02,   1.28906250e-01,  -4.39453125e-01,\n",
       "        -4.76074219e-02,  -4.15039062e-02,  -1.04492188e-01,\n",
       "        -3.28125000e-01,   4.41894531e-02,   4.70703125e-01,\n",
       "        -3.49609375e-01,   2.81250000e-01,   1.39770508e-02,\n",
       "         2.73437500e-01,  -3.51562500e-01,  -1.25976562e-01,\n",
       "         1.70898438e-01,   1.84570312e-01,  -3.02734375e-01,\n",
       "         1.98242188e-01,   2.85156250e-01,   1.53350830e-03,\n",
       "         3.66210938e-02,  -4.10156250e-01,   3.85742188e-02,\n",
       "        -1.68945312e-01,   7.32421875e-02,  -1.32812500e-01,\n",
       "         7.86132812e-02,  -1.56250000e-02,  -2.16796875e-01,\n",
       "         2.83203125e-01,   2.81250000e-01,   5.22460938e-02,\n",
       "        -2.07031250e-01,   3.26171875e-01,  -4.44335938e-02,\n",
       "         2.09960938e-01,  -7.32421875e-02,   9.91210938e-02,\n",
       "        -9.08203125e-02,  -2.97546387e-03,  -5.31250000e-01,\n",
       "        -7.12890625e-02,   3.85742188e-02,   6.44531250e-02,\n",
       "         2.91015625e-01,  -3.92578125e-01,  -7.95898438e-02,\n",
       "         1.03515625e-01,   3.34472656e-02,  -3.39355469e-02,\n",
       "         4.27246094e-02,   6.54296875e-02,  -7.87353516e-03,\n",
       "         2.24609375e-01,  -9.47265625e-02,   1.26953125e-01,\n",
       "         4.55078125e-01,  -1.27929688e-01,  -9.32617188e-02,\n",
       "         2.75878906e-02,   2.53906250e-01,   1.78710938e-01,\n",
       "        -1.26953125e-01,  -4.02832031e-03,  -1.04492188e-01,\n",
       "        -5.23437500e-01,  -2.30712891e-02,  -3.02734375e-01,\n",
       "        -6.00585938e-02,  -3.10546875e-01,  -3.20312500e-01,\n",
       "         3.01513672e-02,   7.56835938e-02,   1.83593750e-01,\n",
       "         2.80761719e-02,   2.34375000e-01,  -1.62353516e-02,\n",
       "        -4.61425781e-02,  -5.54199219e-02,  -1.63085938e-01,\n",
       "        -1.25000000e-01,   2.65625000e-01,   1.40625000e-01,\n",
       "        -6.98242188e-02,   2.96875000e-01,   3.24707031e-02,\n",
       "        -9.22851562e-02,   1.14257812e-01,   1.82617188e-01,\n",
       "        -2.06054688e-01,  -4.33593750e-01,  -6.83593750e-02,\n",
       "         4.73632812e-02,   1.43432617e-03,  -1.23901367e-02,\n",
       "         4.15039062e-02,  -7.81250000e-02,  -6.00585938e-02,\n",
       "         1.02539062e-01,  -1.98242188e-01,  -4.17968750e-01,\n",
       "         1.60156250e-01,   4.66308594e-02,  -5.00488281e-02,\n",
       "        -1.21582031e-01,   1.44531250e-01,  -2.75390625e-01,\n",
       "         3.51562500e-01,   1.86767578e-02,   9.03320312e-03,\n",
       "         2.77343750e-01,  -6.34765625e-02,  -1.68945312e-01,\n",
       "        -1.55273438e-01,   1.44531250e-01,   2.44140625e-02,\n",
       "        -3.01513672e-02,  -1.34765625e-01,  -2.92968750e-01,\n",
       "        -2.45361328e-02,  -3.98437500e-01,   1.66015625e-01,\n",
       "        -4.58984375e-02,  -7.76367188e-02,  -2.23632812e-01,\n",
       "        -2.35351562e-01,  -1.08886719e-01,   2.00195312e-01,\n",
       "        -1.47460938e-01,  -1.66015625e-01,   1.40625000e-01,\n",
       "        -2.10937500e-01,   8.34960938e-02,   2.43164062e-01,\n",
       "         1.09375000e-01,  -1.41601562e-01,   1.73828125e-01,\n",
       "         2.27539062e-01,   5.85937500e-02,  -8.59375000e-02,\n",
       "        -9.57031250e-02,  -2.78320312e-02,   9.22851562e-02,\n",
       "         2.77343750e-01,   1.48437500e-01,  -2.49023438e-01,\n",
       "        -1.89453125e-01,   6.64062500e-02,   2.71484375e-01,\n",
       "        -1.53198242e-02,  -1.51367188e-01,  -1.13769531e-01,\n",
       "         2.31445312e-01,  -9.94873047e-03,  -1.25000000e-01,\n",
       "        -9.76562500e-02,   1.66992188e-01,  -3.41796875e-01,\n",
       "        -1.53320312e-01,   4.63867188e-02,  -3.06640625e-01,\n",
       "        -3.73535156e-02,   3.32031250e-01,  -1.04980469e-01,\n",
       "         1.13769531e-01,  -8.49609375e-02,  -2.65625000e-01,\n",
       "        -1.85546875e-01,  -1.77001953e-02,   2.10937500e-01,\n",
       "        -5.10253906e-02,  -8.30078125e-02,  -1.35742188e-01,\n",
       "         4.22363281e-02,   1.52343750e-01,  -1.01562500e-01,\n",
       "         5.39550781e-02,  -1.29882812e-01,   2.69531250e-01,\n",
       "        -9.27734375e-02,   2.83203125e-01,  -1.11816406e-01,\n",
       "        -2.02148438e-01,  -2.09960938e-01,   4.93164062e-02,\n",
       "         5.27343750e-02,   2.89062500e-01,   3.57421875e-01,\n",
       "        -1.01318359e-02,  -1.91406250e-01,   3.03955078e-02,\n",
       "        -5.56640625e-02,   2.75390625e-01,   4.95605469e-02,\n",
       "         3.71093750e-02,   8.74023438e-02,   3.14453125e-01,\n",
       "        -2.10937500e-01,  -1.71875000e-01,   4.56542969e-02,\n",
       "        -1.44531250e-01,  -7.71484375e-02,  -2.41699219e-02,\n",
       "        -1.94335938e-01,  -1.28906250e-01,  -1.50390625e-01,\n",
       "        -2.28515625e-01,  -4.02343750e-01,   1.64062500e-01,\n",
       "         1.96533203e-02,  -1.82151794e-04,  -1.97265625e-01,\n",
       "         1.13281250e-01,   3.10546875e-01,  -6.98242188e-02,\n",
       "        -1.04003906e-01,  -2.94921875e-01,   3.39843750e-01,\n",
       "         1.19140625e-01,   2.53906250e-01,  -1.11816406e-01,\n",
       "        -2.57812500e-01,   2.08007812e-01,  -7.32421875e-02,\n",
       "        -1.77734375e-01,   5.54199219e-02,   5.69820404e-05,\n",
       "        -1.55639648e-03,   1.73828125e-01,   1.12792969e-01,\n",
       "        -1.72851562e-01,   8.30078125e-02,   7.91015625e-02,\n",
       "         8.54492188e-02,  -1.15722656e-01,  -2.33398438e-01,\n",
       "         1.37695312e-01,   6.34765625e-02,  -2.42187500e-01,\n",
       "         2.44140625e-01,  -1.07910156e-01,  -4.00390625e-02,\n",
       "         5.00000000e-01,   3.39355469e-02,  -9.13085938e-02,\n",
       "         3.14453125e-01,  -2.87109375e-01,   2.50000000e-01], dtype=float32)"
      ]
     },
     "execution_count": 4,
     "metadata": {},
     "output_type": "execute_result"
    }
   ],
   "source": [
    "model['mouse']"
   ]
  },
  {
   "cell_type": "code",
   "execution_count": 5,
   "metadata": {},
   "outputs": [
    {
     "data": {
      "text/plain": [
       "[('Logitech_MX_Revolution', 0.6175230741500854),\n",
       " ('Razer_Mamba', 0.5994571447372437),\n",
       " ('mice', 0.5896884799003601),\n",
       " ('cordless_laser', 0.5652030110359192),\n",
       " ('VX_Nano', 0.5619357824325562),\n",
       " ('Logitech_MX###', 0.5604779720306396),\n",
       " ('keyboard_arrow_keys', 0.5545550584793091),\n",
       " ('Logitech_G9x', 0.5538491606712341),\n",
       " ('NOTE_TO_READERS_Hovering', 0.5520266890525818),\n",
       " ('Razer_Abyssus', 0.5489388108253479)]"
      ]
     },
     "execution_count": 5,
     "metadata": {},
     "output_type": "execute_result"
    }
   ],
   "source": [
    "model.most_similar('mouse')"
   ]
  },
  {
   "cell_type": "code",
   "execution_count": 6,
   "metadata": {},
   "outputs": [
    {
     "data": {
      "text/plain": [
       "[('houses', 0.7072390913963318),\n",
       " ('bungalow', 0.6878559589385986),\n",
       " ('apartment', 0.6628996729850769),\n",
       " ('bedroom', 0.6496936678886414),\n",
       " ('townhouse', 0.6384080052375793),\n",
       " ('residence', 0.6198420524597168),\n",
       " ('mansion', 0.6058192253112793),\n",
       " ('farmhouse', 0.5857570171356201),\n",
       " ('duplex', 0.5757936239242554),\n",
       " ('appartment', 0.5690325498580933)]"
      ]
     },
     "execution_count": 6,
     "metadata": {},
     "output_type": "execute_result"
    }
   ],
   "source": [
    "model.most_similar('house')"
   ]
  },
  {
   "cell_type": "code",
   "execution_count": 7,
   "metadata": {},
   "outputs": [
    {
     "data": {
      "text/plain": [
       "0.76094570897822089"
      ]
     },
     "execution_count": 7,
     "metadata": {},
     "output_type": "execute_result"
    }
   ],
   "source": [
    "model.similarity('cat', 'dog')"
   ]
  },
  {
   "cell_type": "code",
   "execution_count": 8,
   "metadata": {},
   "outputs": [
    {
     "data": {
      "text/plain": [
       "0.068366895853945203"
      ]
     },
     "execution_count": 8,
     "metadata": {},
     "output_type": "execute_result"
    }
   ],
   "source": [
    "model.similarity('cat', 'rock')"
   ]
  },
  {
   "cell_type": "code",
   "execution_count": 9,
   "metadata": {},
   "outputs": [
    {
     "data": {
      "text/plain": [
       "0.71900512082762358"
      ]
     },
     "execution_count": 9,
     "metadata": {},
     "output_type": "execute_result"
    }
   ],
   "source": [
    "# Note, not alwyas semantic similarity. \"Bad\" and \"good\" are opposites, but they\n",
    "# tend to appear with similar words around them, so they have high similarity here.\n",
    "model.similarity('bad', 'good')"
   ]
  },
  {
   "cell_type": "markdown",
   "metadata": {},
   "source": [
    "## Freebase Word Vectors"
   ]
  },
  {
   "cell_type": "code",
   "execution_count": 10,
   "metadata": {},
   "outputs": [
    {
     "ename": "FileNotFoundError",
     "evalue": "[Errno 2] No such file or directory: '/home/scott/Documents/nlp-python/word_vectors/5'",
     "output_type": "error",
     "traceback": [
      "\u001b[0;31m---------------------------------------------------------------------------\u001b[0m",
      "\u001b[0;31mFileNotFoundError\u001b[0m                         Traceback (most recent call last)",
      "\u001b[0;32m<ipython-input-10-ada25e4b86b4>\u001b[0m in \u001b[0;36m<module>\u001b[0;34m()\u001b[0m\n\u001b[1;32m      1\u001b[0m \u001b[0;32mfrom\u001b[0m \u001b[0mgensim\u001b[0m\u001b[0;34m.\u001b[0m\u001b[0mmodels\u001b[0m \u001b[0;32mimport\u001b[0m \u001b[0mKeyedVectors\u001b[0m\u001b[0;34m\u001b[0m\u001b[0m\n\u001b[1;32m      2\u001b[0m \u001b[0mfreebase_vec_file\u001b[0m \u001b[0;34m=\u001b[0m \u001b[0;34m'/home/scott/Documents/nlp-python/word_vectors/5'\u001b[0m\u001b[0;34m\u001b[0m\u001b[0m\n\u001b[0;32m----> 3\u001b[0;31m \u001b[0mmodel\u001b[0m \u001b[0;34m=\u001b[0m \u001b[0mKeyedVectors\u001b[0m\u001b[0;34m.\u001b[0m\u001b[0mload_word2vec_format\u001b[0m\u001b[0;34m(\u001b[0m\u001b[0mfreebase_vec_file\u001b[0m\u001b[0;34m,\u001b[0m \u001b[0mbinary\u001b[0m\u001b[0;34m=\u001b[0m\u001b[0;32mTrue\u001b[0m\u001b[0;34m)\u001b[0m\u001b[0;34m\u001b[0m\u001b[0m\n\u001b[0m",
      "\u001b[0;32m/usr/local/lib/python3.5/dist-packages/gensim/models/keyedvectors.py\u001b[0m in \u001b[0;36mload_word2vec_format\u001b[0;34m(cls, fname, fvocab, binary, encoding, unicode_errors, limit, datatype)\u001b[0m\n\u001b[1;32m    190\u001b[0m \u001b[0;34m\u001b[0m\u001b[0m\n\u001b[1;32m    191\u001b[0m         \u001b[0mlogger\u001b[0m\u001b[0;34m.\u001b[0m\u001b[0minfo\u001b[0m\u001b[0;34m(\u001b[0m\u001b[0;34m\"loading projection weights from %s\"\u001b[0m\u001b[0;34m,\u001b[0m \u001b[0mfname\u001b[0m\u001b[0;34m)\u001b[0m\u001b[0;34m\u001b[0m\u001b[0m\n\u001b[0;32m--> 192\u001b[0;31m         \u001b[0;32mwith\u001b[0m \u001b[0mutils\u001b[0m\u001b[0;34m.\u001b[0m\u001b[0msmart_open\u001b[0m\u001b[0;34m(\u001b[0m\u001b[0mfname\u001b[0m\u001b[0;34m)\u001b[0m \u001b[0;32mas\u001b[0m \u001b[0mfin\u001b[0m\u001b[0;34m:\u001b[0m\u001b[0;34m\u001b[0m\u001b[0m\n\u001b[0m\u001b[1;32m    193\u001b[0m             \u001b[0mheader\u001b[0m \u001b[0;34m=\u001b[0m \u001b[0mutils\u001b[0m\u001b[0;34m.\u001b[0m\u001b[0mto_unicode\u001b[0m\u001b[0;34m(\u001b[0m\u001b[0mfin\u001b[0m\u001b[0;34m.\u001b[0m\u001b[0mreadline\u001b[0m\u001b[0;34m(\u001b[0m\u001b[0;34m)\u001b[0m\u001b[0;34m,\u001b[0m \u001b[0mencoding\u001b[0m\u001b[0;34m=\u001b[0m\u001b[0mencoding\u001b[0m\u001b[0;34m)\u001b[0m\u001b[0;34m\u001b[0m\u001b[0m\n\u001b[1;32m    194\u001b[0m             \u001b[0mvocab_size\u001b[0m\u001b[0;34m,\u001b[0m \u001b[0mvector_size\u001b[0m \u001b[0;34m=\u001b[0m \u001b[0mmap\u001b[0m\u001b[0;34m(\u001b[0m\u001b[0mint\u001b[0m\u001b[0;34m,\u001b[0m \u001b[0mheader\u001b[0m\u001b[0;34m.\u001b[0m\u001b[0msplit\u001b[0m\u001b[0;34m(\u001b[0m\u001b[0;34m)\u001b[0m\u001b[0;34m)\u001b[0m  \u001b[0;31m# throws for invalid file format\u001b[0m\u001b[0;34m\u001b[0m\u001b[0m\n",
      "\u001b[0;32m/usr/local/lib/python3.5/dist-packages/smart_open/smart_open_lib.py\u001b[0m in \u001b[0;36msmart_open\u001b[0;34m(uri, mode, **kw)\u001b[0m\n\u001b[1;32m    138\u001b[0m             \u001b[0;31m# local files -- both read & write supported\u001b[0m\u001b[0;34m\u001b[0m\u001b[0;34m\u001b[0m\u001b[0m\n\u001b[1;32m    139\u001b[0m             \u001b[0;31m# compression, if any, is determined by the filename extension (.gz, .bz2)\u001b[0m\u001b[0;34m\u001b[0m\u001b[0;34m\u001b[0m\u001b[0m\n\u001b[0;32m--> 140\u001b[0;31m             \u001b[0;32mreturn\u001b[0m \u001b[0mfile_smart_open\u001b[0m\u001b[0;34m(\u001b[0m\u001b[0mparsed_uri\u001b[0m\u001b[0;34m.\u001b[0m\u001b[0muri_path\u001b[0m\u001b[0;34m,\u001b[0m \u001b[0mmode\u001b[0m\u001b[0;34m)\u001b[0m\u001b[0;34m\u001b[0m\u001b[0m\n\u001b[0m\u001b[1;32m    141\u001b[0m         \u001b[0;32melif\u001b[0m \u001b[0mparsed_uri\u001b[0m\u001b[0;34m.\u001b[0m\u001b[0mscheme\u001b[0m \u001b[0;32min\u001b[0m \u001b[0;34m(\u001b[0m\u001b[0;34m\"s3\"\u001b[0m\u001b[0;34m,\u001b[0m \u001b[0;34m\"s3n\"\u001b[0m\u001b[0;34m,\u001b[0m \u001b[0;34m\"s3u\"\u001b[0m\u001b[0;34m)\u001b[0m\u001b[0;34m:\u001b[0m\u001b[0;34m\u001b[0m\u001b[0m\n\u001b[1;32m    142\u001b[0m             \u001b[0mkwargs\u001b[0m \u001b[0;34m=\u001b[0m \u001b[0;34m{\u001b[0m\u001b[0;34m}\u001b[0m\u001b[0;34m\u001b[0m\u001b[0m\n",
      "\u001b[0;32m/usr/local/lib/python3.5/dist-packages/smart_open/smart_open_lib.py\u001b[0m in \u001b[0;36mfile_smart_open\u001b[0;34m(fname, mode)\u001b[0m\n\u001b[1;32m    642\u001b[0m \u001b[0;34m\u001b[0m\u001b[0m\n\u001b[1;32m    643\u001b[0m     \"\"\"\n\u001b[0;32m--> 644\u001b[0;31m     \u001b[0;32mreturn\u001b[0m \u001b[0mcompression_wrapper\u001b[0m\u001b[0;34m(\u001b[0m\u001b[0mopen\u001b[0m\u001b[0;34m(\u001b[0m\u001b[0mfname\u001b[0m\u001b[0;34m,\u001b[0m \u001b[0mmode\u001b[0m\u001b[0;34m)\u001b[0m\u001b[0;34m,\u001b[0m \u001b[0mfname\u001b[0m\u001b[0;34m,\u001b[0m \u001b[0mmode\u001b[0m\u001b[0;34m)\u001b[0m\u001b[0;34m\u001b[0m\u001b[0m\n\u001b[0m\u001b[1;32m    645\u001b[0m \u001b[0;34m\u001b[0m\u001b[0m\n\u001b[1;32m    646\u001b[0m \u001b[0;34m\u001b[0m\u001b[0m\n",
      "\u001b[0;31mFileNotFoundError\u001b[0m: [Errno 2] No such file or directory: '/home/scott/Documents/nlp-python/word_vectors/5'"
     ]
    }
   ],
   "source": [
    "from gensim.models import KeyedVectors\n",
    "freebase_vec_file = '/home/scott/Documents/nlp-python/word_vectors/5'\n",
    "model = KeyedVectors.load_word2vec_format(freebase_vec_file, binary=True)"
   ]
  },
  {
   "cell_type": "code",
   "execution_count": null,
   "metadata": {},
   "outputs": [],
   "source": [
    "list(model.vocab.keys())[:10]"
   ]
  },
  {
   "cell_type": "code",
   "execution_count": null,
   "metadata": {},
   "outputs": [],
   "source": [
    "model['/en/marvin_minsky']"
   ]
  },
  {
   "cell_type": "code",
   "execution_count": null,
   "metadata": {},
   "outputs": [],
   "source": [
    "model.most_similar('/en/pulp_fiction')"
   ]
  },
  {
   "cell_type": "code",
   "execution_count": null,
   "metadata": {
    "collapsed": true
   },
   "outputs": [],
   "source": []
  }
 ],
 "metadata": {
  "kernelspec": {
   "display_name": "Python 3",
   "language": "python",
   "name": "python3"
  },
  "language_info": {
   "codemirror_mode": {
    "name": "ipython",
    "version": 3
   },
   "file_extension": ".py",
   "mimetype": "text/x-python",
   "name": "python",
   "nbconvert_exporter": "python",
   "pygments_lexer": "ipython3",
   "version": "3.5.2"
  }
 },
 "nbformat": 4,
 "nbformat_minor": 2
}
