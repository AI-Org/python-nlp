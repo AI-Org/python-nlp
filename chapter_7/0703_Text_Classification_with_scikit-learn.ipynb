{
 "cells": [
  {
   "cell_type": "code",
   "execution_count": 1,
   "metadata": {},
   "outputs": [
    {
     "data": {
      "text/plain": [
       "['DESCR', 'data', 'description', 'filenames', 'target', 'target_names']"
      ]
     },
     "execution_count": 1,
     "metadata": {},
     "output_type": "execute_result"
    }
   ],
   "source": [
    "# First lets get the data like we did before\n",
    "from sklearn.datasets import fetch_20newsgroups\n",
    "texts = fetch_20newsgroups(subset='train')\n",
    "dir(texts)"
   ]
  },
  {
   "cell_type": "code",
   "execution_count": 2,
   "metadata": {
    "collapsed": true
   },
   "outputs": [],
   "source": [
    "# Define a get minibatch that returns just a little of the data at a time\n",
    "# If storing the data on disk, data_idx could be a file pointer\n",
    "BATCH_SIZE = 32\n",
    "def get_batch(data_idx, texts):\n",
    "    # Need it as a list of x and a list of y\n",
    "    data_x, data_y = [], []\n",
    "    for t in range(BATCH_SIZE):\n",
    "        # We will loop through the data multiple times\n",
    "        if data_idx == len(texts.data):\n",
    "            return [], [], 0\n",
    "        data_x.append(texts.data[data_idx])\n",
    "        data_y.append(texts.target[data_idx])\n",
    "        data_idx += 1\n",
    "    return data_x, data_y, data_idx\n",
    "\n",
    "# start with index 0\n",
    "data_idx = 0"
   ]
  },
  {
   "cell_type": "code",
   "execution_count": 3,
   "metadata": {},
   "outputs": [
    {
     "name": "stderr",
     "output_type": "stream",
     "text": [
      "/usr/local/lib/python3.5/dist-packages/sklearn/naive_bayes.py:455: RuntimeWarning: divide by zero encountered in log\n",
      "  self.class_log_prior_ = (np.log(self.class_count_) -\n"
     ]
    },
    {
     "name": "stdout",
     "output_type": "stream",
     "text": [
      "  Passive-Aggressive classifier : \taccuracy: 0.469 \n",
      "                 SGD classifier : \taccuracy: 0.406 \n",
      "          Perception classifier : \taccuracy: 0.427 \n",
      "      NB Multinormal classifier : \taccuracy: 0.531 \n",
      "\n",
      "\n",
      "  Passive-Aggressive classifier : \taccuracy: 0.479 \n",
      "                 SGD classifier : \taccuracy: 0.510 \n",
      "          Perception classifier : \taccuracy: 0.552 \n",
      "      NB Multinormal classifier : \taccuracy: 0.771 \n",
      "\n",
      "\n",
      "  Passive-Aggressive classifier : \taccuracy: 0.677 \n",
      "                 SGD classifier : \taccuracy: 0.635 \n",
      "          Perception classifier : \taccuracy: 0.521 \n",
      "      NB Multinormal classifier : \taccuracy: 0.812 \n",
      "\n",
      "\n",
      "  Passive-Aggressive classifier : \taccuracy: 0.750 \n",
      "                 SGD classifier : \taccuracy: 0.729 \n",
      "          Perception classifier : \taccuracy: 0.646 \n",
      "      NB Multinormal classifier : \taccuracy: 0.844 \n",
      "\n",
      "\n",
      "  Passive-Aggressive classifier : \taccuracy: 0.781 \n",
      "                 SGD classifier : \taccuracy: 0.740 \n",
      "          Perception classifier : \taccuracy: 0.646 \n",
      "      NB Multinormal classifier : \taccuracy: 0.844 \n",
      "\n",
      "\n",
      "  Passive-Aggressive classifier : \taccuracy: 0.792 \n",
      "                 SGD classifier : \taccuracy: 0.802 \n",
      "          Perception classifier : \taccuracy: 0.594 \n",
      "      NB Multinormal classifier : \taccuracy: 0.844 \n",
      "\n",
      "\n",
      "  Passive-Aggressive classifier : \taccuracy: 0.812 \n",
      "                 SGD classifier : \taccuracy: 0.771 \n",
      "          Perception classifier : \taccuracy: 0.760 \n",
      "      NB Multinormal classifier : \taccuracy: 0.865 \n",
      "\n",
      "\n",
      "  Passive-Aggressive classifier : \taccuracy: 0.833 \n",
      "                 SGD classifier : \taccuracy: 0.771 \n",
      "          Perception classifier : \taccuracy: 0.750 \n",
      "      NB Multinormal classifier : \taccuracy: 0.865 \n",
      "\n",
      "\n",
      "  Passive-Aggressive classifier : \taccuracy: 0.812 \n",
      "                 SGD classifier : \taccuracy: 0.781 \n",
      "          Perception classifier : \taccuracy: 0.781 \n",
      "      NB Multinormal classifier : \taccuracy: 0.875 \n",
      "\n",
      "\n",
      "  Passive-Aggressive classifier : \taccuracy: 0.865 \n",
      "                 SGD classifier : \taccuracy: 0.844 \n",
      "          Perception classifier : \taccuracy: 0.792 \n",
      "      NB Multinormal classifier : \taccuracy: 0.885 \n",
      "\n",
      "\n",
      "  Passive-Aggressive classifier : \taccuracy: 0.833 \n",
      "                 SGD classifier : \taccuracy: 0.812 \n",
      "          Perception classifier : \taccuracy: 0.729 \n",
      "      NB Multinormal classifier : \taccuracy: 0.906 \n",
      "\n",
      "\n"
     ]
    }
   ],
   "source": [
    "import numpy as np\n",
    "\n",
    "from sklearn.feature_extraction.text import HashingVectorizer\n",
    "from sklearn.linear_model import SGDClassifier\n",
    "from sklearn.linear_model import PassiveAggressiveClassifier\n",
    "from sklearn.linear_model import Perceptron\n",
    "from sklearn.naive_bayes import MultinomialNB\n",
    "\n",
    "# Uses hashing trcik: Instead of creating a diciontary and associating each\n",
    "# word with an index i, the index for a word w is computed using a hashing\n",
    "# function h. i = h(w) mod n_features\n",
    "\n",
    "vectorizer = HashingVectorizer(decode_error='ignore', n_features=2 ** 18,\n",
    "                              non_negative=True)\n",
    "\n",
    "all_classes = np.array(range(20))\n",
    "\n",
    "# Let's try four different classifiers\n",
    "partial_fit_classifiers = {\n",
    "    'SGD': SGDClassifier(), # An SVM\n",
    "    'Perception': Perceptron(),\n",
    "    'NB Multinormal': MultinomialNB(alpha=0.01), # ignores non-occuring features\n",
    "    'Passive-Aggressive': PassiveAggressiveClassifier(), # for large-scale learning\n",
    "}\n",
    "\n",
    "# First we hold out a number of examples to estimate accuracy\n",
    "n_test_documents = 3 * BATCH_SIZE\n",
    "X_test_text = []\n",
    "y_test= []\n",
    "for i in range(3):\n",
    "    _X_test_text, _y_test, data_idx = get_batch(data_idx, texts)\n",
    "    X_test_text.extend(_X_test_text)\n",
    "    y_test.extend((_y_test))\n",
    "    \n",
    "# Convert the test data into features\n",
    "X_test = vectorizer.transform(X_test_text)\n",
    "\n",
    "# Create some structure to store statistics\n",
    "def progress(cls_name, stats):\n",
    "    \"\"\"Report progress information, return a string\"\"\"\n",
    "    s = \"%20s classifier : \\t\" % cls_name\n",
    "    s += \"accuracy: %(accuracy).3f \" % stats\n",
    "    return s\n",
    "\n",
    "cls_stats = {}\n",
    "\n",
    "for cls_name in partial_fit_classifiers:\n",
    "    stats = {'n_train': 0, 'n_train_pos': 0,\n",
    "             'accuracy': 0.0, 'accuracy_history': [(0, 0)]}\n",
    "    cls_stats[cls_name] = stats\n",
    "    \n",
    "loop_count = 0\n",
    "\n",
    "# Main loop : iterate on mini-batches of examples\n",
    "X_train_text, y_train, data_idx = get_batch(data_idx, texts)\n",
    "while len(X_train_text) > 0:\n",
    "    loop_count += 1 \n",
    "    \n",
    "    X_train = vectorizer.transform(X_train_text)\n",
    "    \n",
    "    for cls_name, cls in partial_fit_classifiers.items():\n",
    "        \n",
    "        # Update estimator with examples in the current mini-batch\n",
    "        cls.partial_fit(X_train, y_train, classes=all_classes)\n",
    "        \n",
    "        # Accumulate test accuracy stats\n",
    "        cls_stats[cls_name]['n_train'] += X_train.shape[0]\n",
    "        cls_stats[cls_name]['n_train_pos'] += sum(y_train)\n",
    "        cls_stats[cls_name]['accuracy'] = cls.score(X_test, y_test)\n",
    "        acc_history = (cls_stats[cls_name]['accuracy'],\n",
    "                       cls_stats[cls_name]['n_train'])\n",
    "        cls_stats[cls_name]['accuracy_history'].append(acc_history)\n",
    "        \n",
    "        if loop_count % 30 == 0:\n",
    "            print(progress(cls_name, cls_stats[cls_name]))\n",
    "            \n",
    "    if loop_count % 30 == 0:\n",
    "        print('\\n')\n",
    "    X_train_text, y_train, data_idx = get_batch(data_idx, texts)\n",
    "        \n",
    "        \n"
   ]
  },
  {
   "cell_type": "code",
   "execution_count": 4,
   "metadata": {},
   "outputs": [
    {
     "data": {
      "text/plain": [
       "<matplotlib.legend.Legend at 0x7fb2b1f1a320>"
      ]
     },
     "execution_count": 4,
     "metadata": {},
     "output_type": "execute_result"
    },
    {
     "data": {
      "image/png": "[encoded data removed]",
      "text/plain": [
       "<matplotlib.figure.Figure at 0x7fb2b1f6aeb8>"
      ]
     },
     "metadata": {},
     "output_type": "display_data"
    }
   ],
   "source": [
    "%matplotlib inline\n",
    "import matplotlib.pyplot as plt\n",
    "from matplotlib import rcParams\n",
    "\n",
    "def plot_accuracy(x, y, x_legend):\n",
    "    \"\"\"Plot accuracy as a function of x.\"\"\"\n",
    "    x = np.array(x)\n",
    "    y = np.array(y)\n",
    "    plt.title('Classification accuracy as a function of %s' % x_legend)\n",
    "    plt.xlabel('%s' % x_legend)\n",
    "    plt.ylabel('Accuracy')\n",
    "    plt.grid(True)\n",
    "    plt.plot(x, y)\n",
    "    \n",
    "rcParams['legend.fontsize'] =  10\n",
    "cls_names = list(sorted(cls_stats.keys()))\n",
    "\n",
    "# Plot accuracy evolution\n",
    "plt.figure()\n",
    "for _, stats in sorted(cls_stats.items()):\n",
    "    # Plot accuracy evolution with #examples\n",
    "    accuracy, n_examples = zip(*stats['accuracy_history'])\n",
    "    plot_accuracy(n_examples, accuracy, \"training examples (#)\")\n",
    "    ax = plt.gca()\n",
    "    ax.set_ylim((0.8, 1))\n",
    "plt.legend(cls_names, loc='best')"
   ]
  },
  {
   "cell_type": "code",
   "execution_count": null,
   "metadata": {
    "collapsed": true
   },
   "outputs": [],
   "source": []
  }
 ],
 "metadata": {
  "kernelspec": {
   "display_name": "Python 3",
   "language": "python",
   "name": "python3"
  },
  "language_info": {
   "codemirror_mode": {
    "name": "ipython",
    "version": 3
   },
   "file_extension": ".py",
   "mimetype": "text/x-python",
   "name": "python",
   "nbconvert_exporter": "python",
   "pygments_lexer": "ipython3",
   "version": "3.5.2"
  }
 },
 "nbformat": 4,
 "nbformat_minor": 2
}
