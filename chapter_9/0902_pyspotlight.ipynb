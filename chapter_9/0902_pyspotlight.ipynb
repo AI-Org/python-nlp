{
 "cells": [
  {
   "cell_type": "code",
   "execution_count": 1,
   "metadata": {},
   "outputs": [],
   "source": [
    "import spotlight\n",
    "HOST = 'http://spotlight.sztaki.hu:2222/rest/annotate'\n",
    "def get_annotations(text):\n",
    "    try:\n",
    "        annotations = spotlight.annotate(HOST,\n",
    "                                         text,\n",
    "                                         confidence=0.4, support=20)\n",
    "    except spotlight.SpotlightException:\n",
    "        return None # nothing was found\n",
    "    return annotations"
   ]
  },
  {
   "cell_type": "code",
   "execution_count": 2,
   "metadata": {},
   "outputs": [
    {
     "name": "stdout",
     "output_type": "stream",
     "text": [
      "[{'percentageOfSecondRank': 0.1581660169877273, 'similarityScore': 0.8632129315840661, 'URI': 'http://dbpedia.org/resource/George_W._Bush', 'offset': 0, 'support': 13840, 'types': 'DBpedia:Agent,Schema:Person,Http://xmlns.com/foaf/0.1/Person,DBpedia:Person,DBpedia:OfficeHolder', 'surfaceForm': 'George Bush'}, {'percentageOfSecondRank': 0.0006773174909144678, 'similarityScore': 0.9986112529467162, 'URI': 'http://dbpedia.org/resource/Chicago', 'offset': 20, 'support': 75494, 'types': 'Schema:Place,DBpedia:Place,DBpedia:PopulatedPlace,DBpedia:Settlement,Schema:City,DBpedia:City', 'surfaceForm': 'Chicago'}]\n"
     ]
    }
   ],
   "source": [
    "text = 'George Bush went to Chicago.'\n",
    "print(get_annotations(text))"
   ]
  },
  {
   "cell_type": "code",
   "execution_count": 3,
   "metadata": {
    "collapsed": true
   },
   "outputs": [],
   "source": [
    "def get_DBpedia_resources(text):\n",
    "    resources = []\n",
    "    annotations = get_annotations(text)\n",
    "    for a in annotations:\n",
    "        resources.append(a['URI'])\n",
    "    return resources"
   ]
  },
  {
   "cell_type": "code",
   "execution_count": 4,
   "metadata": {},
   "outputs": [
    {
     "name": "stdout",
     "output_type": "stream",
     "text": [
      "['http://dbpedia.org/resource/George_W._Bush', 'http://dbpedia.org/resource/Chicago']\n"
     ]
    }
   ],
   "source": [
    "text = 'George Bush went to Chicago.'\n",
    "print(get_DBpedia_resources(text))"
   ]
  },
  {
   "cell_type": "code",
   "execution_count": null,
   "metadata": {
    "collapsed": true
   },
   "outputs": [],
   "source": []
  }
 ],
 "metadata": {
  "kernelspec": {
   "display_name": "Python 3",
   "language": "python",
   "name": "python3"
  },
  "language_info": {
   "codemirror_mode": {
    "name": "ipython",
    "version": 3
   },
   "file_extension": ".py",
   "mimetype": "text/x-python",
   "name": "python",
   "nbconvert_exporter": "python",
   "pygments_lexer": "ipython3",
   "version": "3.5.2"
  }
 },
 "nbformat": 4,
 "nbformat_minor": 2
}
