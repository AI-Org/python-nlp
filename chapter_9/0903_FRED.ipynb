{
 "cells": [
  {
   "cell_type": "code",
   "execution_count": 1,
   "metadata": {},
   "outputs": [],
   "source": [
    "import fredlib"
   ]
  },
  {
   "cell_type": "code",
   "execution_count": 2,
   "metadata": {
    "collapsed": true
   },
   "outputs": [],
   "source": [
    "def get_nodes(text):\n",
    "    filename_for_rdf = 'fred.rdf'\n",
    "    g = fredlib.getFredGraph(fredlib.preprocessText(text), filename_for_rdf)\n",
    "    return g.getNodes()"
   ]
  },
  {
   "cell_type": "code",
   "execution_count": 3,
   "metadata": {},
   "outputs": [
    {
     "name": "stdout",
     "output_type": "stream",
     "text": [
      "set([u'http://dbpedia.org/resource/George_H._W._Bush', u'http://www.ontologydesignpatterns.org/ont/fred/domain.owl#George_bush', u'http://schema.org/Place', u'http://www.ontologydesignpatterns.org/ont/vn/data/Go_47070000', u'http://www.ontologydesignpatterns.org/ont/dul/DUL.owl#Event', u'http://www.ontologydesignpatterns.org/ont/fred/domain.owl#go_1', u'http://schema.org/Person', u'http://www.ontologydesignpatterns.org/ont/fred/domain.owl#Chicago', u'http://schema.org/City', u'http://dbpedia.org/resource/Chicago', u'http://www.ontologydesignpatterns.org/ont/fred/domain.owl#Go'])\n",
      "http://dbpedia.org/resource/George_H._W._Bush\n",
      "http://dbpedia.org/resource/Chicago\n"
     ]
    }
   ],
   "source": [
    "text = 'George Bush went to Chicago.'\n",
    "nodes = get_nodes(text)\n",
    "print(nodes)\n",
    "for n in nodes:\n",
    "    if 'dbpedia' in n:\n",
    "        print(n)"
   ]
  },
  {
   "cell_type": "code",
   "execution_count": null,
   "metadata": {
    "collapsed": true
   },
   "outputs": [],
   "source": []
  }
 ],
 "metadata": {
  "kernelspec": {
   "display_name": "Python 2",
   "language": "python",
   "name": "python2"
  },
  "language_info": {
   "codemirror_mode": {
    "name": "ipython",
    "version": 2
   },
   "file_extension": ".py",
   "mimetype": "text/x-python",
   "name": "python",
   "nbconvert_exporter": "python",
   "pygments_lexer": "ipython2",
   "version": "2.7.12"
  }
 },
 "nbformat": 4,
 "nbformat_minor": 2
}
